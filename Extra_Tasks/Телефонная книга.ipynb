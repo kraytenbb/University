{
  "nbformat": 4,
  "nbformat_minor": 0,
  "metadata": {
    "colab": {
      "provenance": [],
      "include_colab_link": true
    },
    "kernelspec": {
      "name": "python3",
      "display_name": "Python 3"
    },
    "language_info": {
      "name": "python"
    }
  },
  "cells": [
    {
      "cell_type": "markdown",
      "metadata": {
        "id": "view-in-github",
        "colab_type": "text"
      },
      "source": [
        "<a href=\"https://colab.research.google.com/github/kraytenbb/University/blob/main/Extra_Tasks/%D0%A2%D0%B5%D0%BB%D0%B5%D1%84%D0%BE%D0%BD%D0%BD%D0%B0%D1%8F%20%D0%BA%D0%BD%D0%B8%D0%B3%D0%B0.ipynb\" target=\"_parent\"><img src=\"https://colab.research.google.com/assets/colab-badge.svg\" alt=\"Open In Colab\"/></a>"
      ]
    },
    {
      "cell_type": "code",
      "execution_count": null,
      "metadata": {
        "colab": {
          "base_uri": "https://localhost:8080/"
        },
        "id": "fDBWDjfN7kBy",
        "outputId": "7fd244c2-fe40-4b78-e901-f2a224b0e953"
      },
      "outputs": [
        {
          "output_type": "stream",
          "name": "stdout",
          "text": [
            "510 514\n"
          ]
        }
      ],
      "source": [
        "def standartize_name(name):\n",
        "\n",
        "    return name.title()\n",
        "\n",
        "\n",
        "def standartize_phone(phone):\n",
        "\n",
        "    phone_digits = ''.join(char for char in phone if char.isdigit())\n",
        "    if len(phone_digits) == 10:\n",
        "        return '+7' + phone_digits\n",
        "    elif len(phone_digits) == 11:\n",
        "        return '+7' + phone_digits[1:]\n",
        "\n",
        "\n",
        "def add_contact(phone_book):\n",
        "\n",
        "    name = input('Введите имя контакта: ')\n",
        "    phone = input('Введите номер телефона: ')\n",
        "\n",
        "    standartized_name = standartize_name(name)\n",
        "\n",
        "\n",
        "    standartized_phone = standartize_phone(phone)\n",
        "\n",
        "\n",
        "    new_phone_book = phone_book.copy()\n",
        "    new_phone_book[standartized_name] = standartized_phone\n",
        "    print('Контакт успешно добавлен')\n",
        "    return new_phone_book\n",
        "\n",
        "\n",
        "def delete_contact(phone_book):\n",
        "    name = input('Введите имя контакта: ')\n",
        "    standartized_name = standartize_name(name)\n",
        "\n",
        "    if standartized_name in phone_book:\n",
        "        new_phone_book = phone_book.copy()\n",
        "        del new_phone_book[standartized_name]\n",
        "        print('Контакт успешно удалён!')\n",
        "        return new_phone_book\n",
        "    else:\n",
        "        print('Контакт не найден!')\n",
        "        return phone_book\n",
        "\n",
        "\n",
        "def edit_contact(phone_book):\n",
        "    name = input('Введите имя контакта: ')\n",
        "    standartized_name = standartize_name(name)\n",
        "\n",
        "    if standartized_name in phone_book:\n",
        "        new_phone = input('Введите номер телефона: ')\n",
        "        standartized_phone = standartize_phone(new_phone)\n",
        "        new_phone_book = phone_book.copy()\n",
        "        new_phone_book[standartize_name] = standartize_phone\n",
        "\n",
        "        print('Номер телефона успешно изменён!!')\n",
        "        return new_phone_book\n",
        "    else:\n",
        "        print('Контакт не найден!')\n",
        "        return phone_book\n",
        "\n",
        "\n",
        "def view_contact(phone_book):\n",
        "    if not phone_book:\n",
        "        print('Телефонная книга пуста!')\n",
        "    else:\n",
        "        for name, phone in phone_book.items():\n",
        "            print(f'{name}: {phone}')\n",
        "\n",
        "\n",
        "def menu():\n",
        "    phone_book = {}\n",
        "    while True:\n",
        "        print('\\nВыберите функцию:')\n",
        "        print('1. Добавить контакт')\n",
        "        print('2. Удалить контакт')\n",
        "        print('3. Показать список контактов')\n",
        "        print('4. Изменить номер')\n",
        "        print('5. Выход')\n",
        "\n",
        "        choice = input('Введите номер функции: ')\n",
        "\n",
        "        if choice == '1':\n",
        "            phone_book = add_contact(phone_book)\n",
        "        elif choice == '2':\n",
        "            phone_book = delete_contact(phone_book)\n",
        "        elif choice == '3':\n",
        "            view_contact(phone_book)\n",
        "        elif choice == '4':\n",
        "            phone_book == edit_contact(phone_book)\n",
        "        elif choice == '5':\n",
        "            print('Выход из программы...')\n",
        "            break\n",
        "        else:\n",
        "            print('Неверный выбор')\n",
        "\n",
        "\n",
        "menu()\n"
      ]
    }
  ]
}