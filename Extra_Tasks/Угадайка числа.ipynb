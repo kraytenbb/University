{
  "nbformat": 4,
  "nbformat_minor": 0,
  "metadata": {
    "colab": {
      "provenance": [],
      "include_colab_link": true
    },
    "kernelspec": {
      "name": "python3",
      "display_name": "Python 3"
    },
    "language_info": {
      "name": "python"
    }
  },
  "cells": [
    {
      "cell_type": "markdown",
      "metadata": {
        "id": "view-in-github",
        "colab_type": "text"
      },
      "source": [
        "<a href=\"https://colab.research.google.com/github/kraytenbb/University/blob/main/Extra_Tasks/%D0%A3%D0%B3%D0%B0%D0%B4%D0%B0%D0%B9%D0%BA%D0%B0%20%D1%87%D0%B8%D1%81%D0%BB%D0%B0.ipynb\" target=\"_parent\"><img src=\"https://colab.research.google.com/assets/colab-badge.svg\" alt=\"Open In Colab\"/></a>"
      ]
    },
    {
      "cell_type": "code",
      "execution_count": null,
      "metadata": {
        "colab": {
          "base_uri": "https://localhost:8080/"
        },
        "id": "fDBWDjfN7kBy",
        "outputId": "7fd244c2-fe40-4b78-e901-f2a224b0e953"
      },
      "outputs": [
        {
          "output_type": "stream",
          "name": "stdout",
          "text": [
            "510 514\n"
          ]
        }
      ],
      "source": [
        "import random\n",
        "\n",
        "\n",
        "answer = random.randrange(1, 100)\n",
        "count = 0\n",
        "while True:\n",
        "    count += 1\n",
        "    user_answer = input('Введите число: ')\n",
        "    if user_answer.lower() == 'выход':\n",
        "        print('Выход из игры!')\n",
        "        break\n",
        "    while not user_answer.isdigit():\n",
        "        print('Ошибка! Введите число!')\n",
        "        user_answer = input('Введите число: ')\n",
        "        if user_answer.lower() == 'выход':\n",
        "            print('Выход из игры!')\n",
        "            break\n",
        "    if user_answer.lower() == 'выход':\n",
        "        break\n",
        "    elif int(user_answer) == answer:\n",
        "        print(f'Поздравляем! Вы угадали число за {count} попыток!')\n",
        "        break\n",
        "    elif int(user_answer) > answer:\n",
        "        print('Ваше число больше')\n",
        "    else:\n",
        "        print('Ваше число меньше')\n"
      ]
    }
  ]
}