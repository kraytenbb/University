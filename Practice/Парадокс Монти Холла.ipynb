{
  "nbformat": 4,
  "nbformat_minor": 0,
  "metadata": {
    "colab": {
      "provenance": [],
      "include_colab_link": true
    },
    "kernelspec": {
      "name": "python3",
      "display_name": "Python 3"
    },
    "language_info": {
      "name": "python"
    }
  },
  "cells": [
    {
      "cell_type": "markdown",
      "metadata": {
        "id": "view-in-github",
        "colab_type": "text"
      },
      "source": [
        "<a href=\"https://colab.research.google.com/github/kraytenbb/University/blob/main/Practice/%D0%9F%D0%B0%D1%80%D0%B0%D0%B4%D0%BE%D0%BA%D1%81%20%D0%9C%D0%BE%D0%BD%D1%82%D0%B8%20%D0%A5%D0%BE%D0%BB%D0%BB%D0%B0.ipynb\" target=\"_parent\"><img src=\"https://colab.research.google.com/assets/colab-badge.svg\" alt=\"Open In Colab\"/></a>"
      ]
    },
    {
      "cell_type": "code",
      "execution_count": null,
      "metadata": {
        "colab": {
          "base_uri": "https://localhost:8080/"
        },
        "id": "fDBWDjfN7kBy",
        "outputId": "7fd244c2-fe40-4b78-e901-f2a224b0e953"
      },
      "outputs": [
        {
          "output_type": "stream",
          "name": "stdout",
          "text": [
            "510 514\n"
          ]
        }
      ],
      "source": [
        "import random\n",
        "\n",
        "win_with_change_choice = 0\n",
        "win_without_change_choice = 0\n",
        "\n",
        "for i in range(1000):\n",
        "    right_door = random.randrange(1, 4)\n",
        "    choice = random.randrange(1, 4)\n",
        "    if choice == right_door:\n",
        "        win_without_change_choice += 1\n",
        "\n",
        "for i in range(1000):\n",
        "    right_door = random.randrange(1, 4)\n",
        "    choice = random.randrange(1, 4)\n",
        "    if choice == 1:\n",
        "        change_door = random.randint(2, 3)\n",
        "    elif choice == 2:\n",
        "        change_door = random.randint(1, 3)\n",
        "    elif choice == 3:\n",
        "        change_door = random.randint(1, 2)\n",
        "    if change_door == right_door:\n",
        "        win_with_change_choice += 1\n",
        "\n",
        "print(f'Количество побед без изменения выбора: {win_without_change_choice}, процент выйгрыша: {round(win_without_change_choice / 10, 1)}%')\n",
        "print(f'Количество побед с изменением выбора: {win_with_change_choice}, процент выйгрыша: {round(win_with_change_choice / 10, 1)}%')"
      ]
    }
  ]
}