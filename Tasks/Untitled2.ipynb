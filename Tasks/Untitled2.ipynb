{
  "nbformat": 4,
  "nbformat_minor": 0,
  "metadata": {
    "colab": {
      "provenance": [],
      "authorship_tag": "ABX9TyPZkwXguI5+olDh5ABdJYc0",
      "include_colab_link": true
    },
    "kernelspec": {
      "name": "python3",
      "display_name": "Python 3"
    },
    "language_info": {
      "name": "python"
    }
  },
  "cells": [
    {
      "cell_type": "markdown",
      "metadata": {
        "id": "view-in-github",
        "colab_type": "text"
      },
      "source": [
        "<a href=\"https://colab.research.google.com/github/kraytenbb/University/blob/main/Tasks/Untitled2.ipynb\" target=\"_parent\"><img src=\"https://colab.research.google.com/assets/colab-badge.svg\" alt=\"Open In Colab\"/></a>"
      ]
    },
    {
      "cell_type": "code",
      "execution_count": 38,
      "metadata": {
        "colab": {
          "base_uri": "https://localhost:8080/"
        },
        "id": "fDBWDjfN7kBy",
        "outputId": "75412842-b668-46c0-c0b6-25f65915a799"
      },
      "outputs": [
        {
          "output_type": "stream",
          "name": "stdout",
          "text": [
            "Введите номер двери или 0 для выхода: 1\n",
            "За второй дверью ничего!\n",
            "Не хотите ли вы изменить свой выбор? нет\n",
            "К сожалению Вы не угадали, приз был за 2 дверью.\n"
          ]
        }
      ],
      "source": [
        "import random, sys\n",
        "\n",
        "\n",
        "win_with_change_choice = 0\n",
        "win_without_change_choice = 0\n",
        "right_door = random.randrange(1, 3)\n",
        "change_choice = False\n",
        "choice = int(input('Введите номер двери или 0 для выхода: '))\n",
        "if choice == 1:\n",
        "  wrong_door = random.randint(2, 3)\n",
        "  if wrong_door == 2:\n",
        "    print('За второй дверью ничего!')\n",
        "  else:\n",
        "    print('За третьей дверью ничего!')\n",
        "elif choice == 2:\n",
        "  wrong_door = random.randint(1, 3)\n",
        "  if wrong_door == 1:\n",
        "    print('За первой дверью ничего!')\n",
        "  else:\n",
        "    print('За третьей дверью ничего!')\n",
        "if choice == 3:\n",
        "  wrong_door = random.randint(1, 2)\n",
        "  if wrong_door == 1:\n",
        "    print('За первой дверью ничего!')\n",
        "  else:\n",
        "    print('За второй дверью ничего!')\n",
        "elif choice == 0:\n",
        "  print('Выход...')\n",
        "if choice == 1 and wrong_door == 2:\n",
        "  answer_2 = input('Не хотите ли вы изменить свой выбор? ')\n",
        "  if answer_2.lower() == 'да':\n",
        "    choice == 3\n",
        "    change_choice = True\n",
        "  elif answer_2.lower() == 'нет':\n",
        "    choice = 1\n",
        "  else:\n",
        "    print('Ошибка')\n",
        "elif choice == 1 and wrong_door == 3:\n",
        "  answer_2 = input('Не хотите ли вы изменить свой выбор? ')\n",
        "  if answer_2.lower() == 'да':\n",
        "    choice == 2\n",
        "    change_choice = True\n",
        "  elif answer_2.lower() == 'нет':\n",
        "    choice = 1\n",
        "  else:\n",
        "    print('Ошибка')\n",
        "elif choice == 2 and wrong_door == 1:\n",
        "  answer_2 = input('Не хотите ли вы изменить свой выбор? ')\n",
        "  if answer_2.lower() == 'да':\n",
        "    choice == 3\n",
        "    change_choice = True\n",
        "  elif answer_2.lower() == 'нет':\n",
        "    choice = 2\n",
        "  else:\n",
        "    print('Ошибка')\n",
        "elif choice == 2 and wrong_door == 3:\n",
        "  answer_2 = input('Не хотите ли вы изменить свой выбор? ')\n",
        "  if answer_2.lower() == 'да':\n",
        "    choice == 1\n",
        "    change_choice = True\n",
        "  elif answer_2.lower() == 'нет':\n",
        "    choice = 2\n",
        "  else:\n",
        "    print('Ошибка')\n",
        "elif choice == 3 and wrong_door == 1:\n",
        "  answer_2 = input('Не хотите ли вы изменить свой выбор? ')\n",
        "  if answer_2.lower() == 'да':\n",
        "    choice == 2\n",
        "    change_choice = True\n",
        "  elif answer_2.lower() == 'нет':\n",
        "    choice = 3\n",
        "  else:\n",
        "    print('Ошибка')\n",
        "elif choice == 3 and wrong_door == 2:\n",
        "  answer_2 = input('Не хотите ли вы изменить свой выбор? ')\n",
        "  if answer_2.lower() == 'да':\n",
        "    choice == 1\n",
        "    change_choice = True\n",
        "  elif answer_2.lower() == 'нет':\n",
        "    choice = 3\n",
        "  else:\n",
        "    print('Ошибка')\n",
        "if choice == right_door:\n",
        "  print(f'Поздравляем, Вы угадали! Приз был за {right_door} дверью!!')\n",
        "else:\n",
        "  print(f'К сожалению Вы не угадали, приз был за {right_door} дверью.')"
      ]
    }
  ]
}