{
  "nbformat": 4,
  "nbformat_minor": 0,
  "metadata": {
    "colab": {
      "provenance": [],
      "authorship_tag": "ABX9TyN68t0CyjL1SmzjYPTXEZZs",
      "include_colab_link": true
    },
    "kernelspec": {
      "name": "python3",
      "display_name": "Python 3"
    },
    "language_info": {
      "name": "python"
    }
  },
  "cells": [
    {
      "cell_type": "markdown",
      "metadata": {
        "id": "view-in-github",
        "colab_type": "text"
      },
      "source": [
        "<a href=\"https://colab.research.google.com/github/kraytenbb/University/blob/main/Tasks/%D0%94%D0%BE%D0%BF%D0%BE%D0%BB%D0%BD%D0%B8%D1%82%D0%B5%D0%BB%D1%8C%D0%BD%D0%BE%D0%B5%20%D0%B7%D0%B2%D0%B0%D0%B4%D0%B0%D0%BD%D0%B8%D0%B5%203.ipynb\" target=\"_parent\"><img src=\"https://colab.research.google.com/assets/colab-badge.svg\" alt=\"Open In Colab\"/></a>"
      ]
    },
    {
      "cell_type": "code",
      "execution_count": 99,
      "metadata": {
        "colab": {
          "base_uri": "https://localhost:8080/"
        },
        "id": "fDBWDjfN7kBy",
        "outputId": "7fd244c2-fe40-4b78-e901-f2a224b0e953"
      },
      "outputs": [
        {
          "output_type": "stream",
          "name": "stdout",
          "text": [
            "510 514\n"
          ]
        }
      ],
      "source": [
        "import random\n",
        "\n",
        "\n",
        "win_with_change_choice = 0\n",
        "win_without_change_choice = 0\n",
        "count_changes = 0\n",
        "change_choice = False\n",
        "new_choice = 0\n",
        "for i in range(1000):\n",
        "    right_door = random.randrange(1, 3)\n",
        "    choice = random.randrange(1, 3)\n",
        "    if choice == 1:\n",
        "      wrong_door = random.randint(2, 3)\n",
        "    elif choice == 2:\n",
        "      wrong_door = random.randint(1, 3)\n",
        "    if choice == 3:\n",
        "      wrong_door = random.randint(1, 2)\n",
        "    if choice == 1 and wrong_door == 2:\n",
        "      answer_2 = random.randint(0, 1)\n",
        "      if answer_2 == 0:\n",
        "        new_choice == 3\n",
        "        change_choice = True\n",
        "        count_changes += 1\n",
        "      elif answer_2 == 1:\n",
        "        new_choice = 1\n",
        "    elif choice == 1 and wrong_door == 3:\n",
        "      answer_2 = random.randint(0, 1)\n",
        "      if answer_2 == 0:\n",
        "        new_choice == 2\n",
        "        change_choice = True\n",
        "        count_changes += 1\n",
        "      elif answer_2 == 1:\n",
        "        new_choice = 1\n",
        "    elif choice == 2 and wrong_door == 1:\n",
        "      answer_2 = random.randint(0, 1)\n",
        "      if answer_2 == 0:\n",
        "        new_choice == 3\n",
        "        change_choice = True\n",
        "        count_changes += 1\n",
        "      elif answer_2 == 1:\n",
        "        new_choice = 2\n",
        "    elif choice == 2 and wrong_door == 3:\n",
        "      answer_2 = random.randint(0, 1)\n",
        "      if answer_2 == 0:\n",
        "        new_choice == 1\n",
        "        change_choice = True\n",
        "        count_changes += 1\n",
        "      elif answer_2 == 1:\n",
        "        new_choice = 2\n",
        "    elif choice == 3 and wrong_door == 1:\n",
        "      answer_2 = random.randint(0, 1)\n",
        "      if answer_2 == 0:\n",
        "        new_choice == 2\n",
        "        change_choice = True\n",
        "        count_changes += 1\n",
        "      elif answer_2 == 1:\n",
        "        new_choice = 3\n",
        "    elif choice == 3 and wrong_door == 2:\n",
        "      answer_2 = random.randint(0, 1)\n",
        "      if answer_2 == 0:\n",
        "        new_choice == 1\n",
        "        change_choice = True\n",
        "        count_changes += 1\n",
        "      elif answer_2 == 1:\n",
        "        new_choice = 3\n",
        "    if choice == right_door:\n",
        "        win_without_change_choice += 1\n",
        "    if new_choice == right_door:\n",
        "        win_with_change_choice += 1\n",
        "print(win_with_change_choice, win_without_change_choice)\n",
        "\n",
        "\n",
        "\n"
      ]
    }
  ]
}